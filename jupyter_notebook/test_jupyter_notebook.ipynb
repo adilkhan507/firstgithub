{
 "cells": [
  {
   "cell_type": "markdown",
   "id": "45a5c30f",
   "metadata": {},
   "source": [
    "# Python ka chilla with baba aammar\n",
    "## How to use jupyter note book\n",
    "## Basics of python\n",
    "\n",
    "###**01.My first program**\n"
   ]
  },
  {
   "cell_type": "code",
   "execution_count": 1,
   "id": "147e003e",
   "metadata": {},
   "outputs": [
    {
     "name": "stdout",
     "output_type": "stream",
     "text": [
      "Hello World\n",
      "we are learning python with aammar\n"
     ]
    }
   ],
   "source": [
    "print(\"Hello World\")\n",
    "print(\"we are learning python with aammar\")"
   ]
  },
  {
   "cell_type": "markdown",
   "id": "4f3fc1f5",
   "metadata": {},
   "source": [
    "###**02.Operators**"
   ]
  },
  {
   "cell_type": "code",
   "execution_count": 2,
   "id": "894522ad",
   "metadata": {},
   "outputs": [
    {
     "name": "stdout",
     "output_type": "stream",
     "text": [
      "4\n",
      "2\n",
      "3.0\n",
      "6\n",
      "1\n",
      "3\n",
      "8\n",
      "11.0\n"
     ]
    }
   ],
   "source": [
    "print(2+2)\n",
    "print(4-2)\n",
    "print(6/2)\n",
    "print(2*3)\n",
    "print(13%2)\n",
    "print(6//2)\n",
    "print(2**3)\n",
    "\n",
    "print(3**2/2*2+4-2)"
   ]
  },
  {
   "cell_type": "markdown",
   "id": "4bb86c36",
   "metadata": {},
   "source": [
    "*PEMDAS\n",
    "parenthesis Exponent Multiply Divide Addition Substraction\n",
    "Left To Right Sequences for M D & A S*"
   ]
  },
  {
   "cell_type": "markdown",
   "id": "f3934b49",
   "metadata": {},
   "source": [
    "###**03.Strings**"
   ]
  },
  {
   "cell_type": "code",
   "execution_count": 3,
   "id": "38d99a17",
   "metadata": {},
   "outputs": [
    {
     "name": "stdout",
     "output_type": "stream",
     "text": [
      "Hello World\n",
      "we are learning python with aammar\n",
      "test for single quotes\n",
      "test for souble quotes\n",
      "test for tripple quotes\n"
     ]
    }
   ],
   "source": [
    "print(\"Hello World\")\n",
    "print(\"we are learning python with aammar\")\n",
    "print('test for single quotes')\n",
    "print(\"test for souble quotes\")\n",
    "print('''test for tripple quotes''')"
   ]
  },
  {
   "cell_type": "markdown",
   "id": "d4afa84b",
   "metadata": {},
   "source": [
    "###**04.Comments in Python**"
   ]
  },
  {
   "cell_type": "code",
   "execution_count": 4,
   "id": "7bd6b2c8",
   "metadata": {},
   "outputs": [
    {
     "name": "stdout",
     "output_type": "stream",
     "text": [
      "learn_with_Baba aammar\n",
      "hello world\n",
      "6\n"
     ]
    }
   ],
   "source": [
    "print(\"learn_with_Baba aammar\")\n",
    "print(\"hello world\")   #make a line into comment then just press ctrl+/ or add # before line\n",
    "print(2+4)             #print operator with number"
   ]
  },
  {
   "cell_type": "markdown",
   "id": "4d0a25eb",
   "metadata": {},
   "source": [
    "###**05.Variables in Python**"
   ]
  },
  {
   "cell_type": "code",
   "execution_count": 5,
   "id": "827a7127",
   "metadata": {},
   "outputs": [
    {
     "name": "stdout",
     "output_type": "stream",
     "text": [
      "4\n",
      "we are learning with aammar\n",
      "14\n",
      "<class 'int'>\n",
      "<class 'str'>\n",
      "mangos,orange\n",
      "<class 'str'>\n",
      "fruit_basket\n",
      "<class 'int'>\n"
     ]
    }
   ],
   "source": [
    "#variables onject containing specific value\n",
    "#for example\n",
    "x= 4  #numeric or integer variable\n",
    "print(x)\n",
    "y=\"we are learning with aammar\"  #string variable\n",
    "print(y)\n",
    "x=x+10 #or 14      \n",
    "print(x)      #variable are updatrd from up to down\n",
    "\n",
    "#types/class of variables\n",
    "type(x)\n",
    "print(type(x))\n",
    "print(type(y))\n",
    " \n",
    "#rules to assign variables\n",
    "#the variable should contain letters, numbers or underscore\n",
    "#do not start wirh number\n",
    "# spaces are not allowed\n",
    "# do not used keyword used in function such as mean,test,median,type etc\n",
    "# short and descriptive\n",
    "# case sensitivty (lower case , upper case but used always lower case)\n",
    "fruit_basket=\"mangos,orange\"\n",
    "print(fruit_basket)\n",
    "print(type(fruit_basket))\n",
    "\n",
    "fruit_basket=8\n",
    "print(\"fruit_basket\")\n",
    "print(type(fruit_basket))"
   ]
  },
  {
   "cell_type": "markdown",
   "id": "48faa3ac",
   "metadata": {},
   "source": [
    "###**06.Input Variables**"
   ]
  },
  {
   "cell_type": "code",
   "execution_count": 6,
   "id": "2ba662d8",
   "metadata": {},
   "outputs": [
    {
     "name": "stdout",
     "output_type": "stream",
     "text": [
      "what is your name? Aammar\n",
      "how old are you? 18\n",
      "Hello! Aammar  ,you are still young\n"
     ]
    }
   ],
   "source": [
    "# fruit_basket=(\"mangos\")\n",
    "# print(fruit_basket)\n",
    "\n",
    "#input function simple\n",
    "# furit_basket=input(\"which is your favourit fruit?\")\n",
    "# print(furit_basket)\n",
    "\n",
    "#input function of 2nd stage\n",
    "\n",
    "# name=input(\"what is your name ?\")\n",
    "# greetings=\"Hello\"\n",
    "# # greet=\"welcome\"\n",
    "# print(greetings, name,)\n",
    "\n",
    "#another way of stage 2 input function\n",
    "# name=input(\"what is your name ?\")\n",
    "# print(\"Hello!\", name)\n",
    "\n",
    "# 3rd stage of input function\n",
    "name=input(\"what is your name? \")\n",
    "age=input(\"how old are you? \" )\n",
    "greetings=\"Hello!\"\n",
    "print(greetings, name, \" ,you are still young\" )\n"
   ]
  },
  {
   "cell_type": "markdown",
   "id": "746e8074",
   "metadata": {},
   "source": [
    "###**07.Conditional Logics**"
   ]
  },
  {
   "cell_type": "code",
   "execution_count": 7,
   "id": "ff70a881",
   "metadata": {},
   "outputs": [
    {
     "name": "stdout",
     "output_type": "stream",
     "text": [
      "how old is hammad? 18\n",
      "<class 'int'>\n",
      "False\n"
     ]
    }
   ],
   "source": [
    "# logical operatorare either \"true or false\" or \"yes or no\" or \"0 or 1\"\n",
    "#equal to                    ==\n",
    "#not equal to                !=\n",
    "# less then                  <\n",
    "#greater then                >\n",
    "#less then and equal to      <=\n",
    "#greater then and equal to   >=\n",
    "\n",
    "#is 4 equal to 4\n",
    "# print(4==4)\n",
    "# print(4!=4) \n",
    "# print(4>3)\n",
    "# print(3<6)\n",
    "# print(3<=5)\n",
    "# print(5>=4)\n",
    "\n",
    "#application of logical operators\n",
    "# hammad_age=4\n",
    "# minimum_age_at_school=5\n",
    "# print(hammad_age==minimum_age_at_school)\n",
    "\n",
    "#input function and logical operators\n",
    "minimum_age_at_school=5\n",
    "hammad_age=input(\"how old is hammad? \")  #input function\n",
    "hammad_age=int(hammad_age)\n",
    "print(type(hammad_age))\n",
    "print(hammad_age==minimum_age_at_school)   #logical operator"
   ]
  },
  {
   "cell_type": "markdown",
   "id": "f5c4823a",
   "metadata": {},
   "source": [
    "###**08.Type Conversion**"
   ]
  },
  {
   "cell_type": "code",
   "execution_count": 8,
   "id": "8e7a6884",
   "metadata": {},
   "outputs": [
    {
     "name": "stdout",
     "output_type": "stream",
     "text": [
      "what is your age? 2\n",
      "2 <class 'int'>\n",
      "what is your name? Aammar\n",
      "Aammar <class 'str'>\n"
     ]
    }
   ],
   "source": [
    "# x=5           #integer\n",
    "# y=10.5          #float  (having decimal point)\n",
    "# z=\"Hello!\"     #string\n",
    "\n",
    "# #implicite type conversion\n",
    "# x= x+y\n",
    "# print(x, \"type of x is:\", type(x))\n",
    "\n",
    "#explicite type conversion\n",
    "age=input(\"what is your age? \")\n",
    "# age=int(age)\n",
    "# print(type(age))\n",
    "#also convert the type (change string to integer)\n",
    "print(age, type(int(age)))\n",
    "\n",
    "#Name\n",
    "name=input(\"what is your name? \")\n",
    "print(name, type(str(name)))"
   ]
  },
  {
   "cell_type": "markdown",
   "id": "fa6e6094",
   "metadata": {},
   "source": [
    "###**09.if_Else_Elif**"
   ]
  },
  {
   "cell_type": "code",
   "execution_count": 9,
   "id": "f1f26ed8",
   "metadata": {},
   "outputs": [
    {
     "name": "stdout",
     "output_type": "stream",
     "text": [
      "congratulation! Hammad can join the school\n"
     ]
    }
   ],
   "source": [
    "required_age_at_school=5\n",
    "hammad_age=5\n",
    "#can hammad go to school?\n",
    "if hammad_age==required_age_at_school:\n",
    "    print(\"congratulation! Hammad can join the school\")         \n",
    "elif hammad_age > required_age_at_school:     #elif means if-else condition\n",
    "    print(\"hammad should join higher school\")\n",
    "elif hammad_age==2:\n",
    "    print(\"you should take care of hammad,he is still baby\")\n",
    "else:\n",
    "    print(\"Hammad con not go to school \")"
   ]
  },
  {
   "cell_type": "markdown",
   "id": "f56bdf40",
   "metadata": {},
   "source": [
    "###**10.Functions**"
   ]
  },
  {
   "cell_type": "code",
   "execution_count": 10,
   "id": "d85e6a65",
   "metadata": {},
   "outputs": [
    {
     "name": "stdout",
     "output_type": "stream",
     "text": [
      "we are learning python with baba aammar\n",
      "we are learning python with baba aammar\n",
      "we are learning python with baba aammar\n",
      "hammad isstill baby\n",
      "24\n"
     ]
    }
   ],
   "source": [
    "# print(\"we are learning  python with aammar\")\n",
    "# print(\"we are learning  python with aammar\")\n",
    "# print(\"we are learning  python with aammar\")\n",
    "# print(\"we are learning  python with aammar\")\n",
    "\n",
    "#defining a function\n",
    "#1\n",
    "# def print_codanics():\n",
    "#     print(\"we are learning  python with aammar\")\n",
    "#     print(\"we are learning  python with aammar\")\n",
    "#     print(\"we are learning  python with aammar\")\n",
    "   \n",
    "# print_codanics()\n",
    "\n",
    "#2\n",
    "# def print_codanics():\n",
    "#     text= \"we are learning python with aammar\"\n",
    "#     print(text)\n",
    "#     print(text)\n",
    "#     print(text)\n",
    "# print_codanics()\n",
    "\n",
    "#3\n",
    "\n",
    "def print_codanics(text):\n",
    "    print(text)\n",
    "    print(text)\n",
    "    print(text)\n",
    "print_codanics(\"we are learning python with baba aammar\")\n",
    "\n",
    "#defining a function with if ,elif and else statement\n",
    "def school_calculator(age):\n",
    "    if age==5:\n",
    "        print(\"hammad can join the school\")\n",
    "    elif age>5:\n",
    "        print(\"hammad can join higer school\")\n",
    "    else:\n",
    "        print(\"hammad isstill baby\")    \n",
    "school_calculator(4)     \n",
    "\n",
    "#defining a future function\n",
    "def future_age(age):\n",
    "    new_age=age+20\n",
    "    return new_age\n",
    "    print(new_age)\n",
    "\n",
    "future_predicted_age=future_age(4) \n",
    "print(future_predicted_age) "
   ]
  },
  {
   "cell_type": "markdown",
   "id": "d9acfa99",
   "metadata": {},
   "source": [
    "###**11.Loops**"
   ]
  },
  {
   "cell_type": "code",
   "execution_count": 12,
   "id": "389aa1d9",
   "metadata": {},
   "outputs": [
    {
     "name": "stdout",
     "output_type": "stream",
     "text": [
      "0\n",
      "1\n",
      "2\n",
      "3\n",
      "4\n",
      "5\n",
      "5\n",
      "6\n",
      "7\n",
      "8\n",
      "9\n",
      "mon\n",
      "tue\n",
      "wed\n",
      "thu\n",
      "sat\n",
      "sun\n"
     ]
    }
   ],
   "source": [
    "#while and for loops\n",
    "#while loop\n",
    "x=0\n",
    "while (x<=5):\n",
    "       print(x)\n",
    "       x=x+1\n",
    "\n",
    "#for loop\n",
    "for x in range (5,10):\n",
    "    print(x)\n",
    "\n",
    "# #array \n",
    "days = [\"mon\", \"tue\",\"wed\", \"thu\", \"fri\", \"sat\", \"sun\" ]\n",
    "\n",
    "for d in days:\n",
    "    # if(d==\"fri\"):break   #loop stop\n",
    "    if(d==\"fri\"):continue    #skips d\n",
    "    print(d)"
   ]
  },
  {
   "cell_type": "markdown",
   "id": "a98ebe97",
   "metadata": {},
   "source": [
    "###**12.Import Libraries**"
   ]
  },
  {
   "cell_type": "code",
   "execution_count": 14,
   "id": "2bd3a752",
   "metadata": {},
   "outputs": [
    {
     "name": "stdout",
     "output_type": "stream",
     "text": [
      "the value of pi is = 3.141592653589793\n",
      "300\n"
     ]
    }
   ],
   "source": [
    "#if you want to print the value of pi\n",
    "import math\n",
    "print(\"the value of pi is =\",math.pi)\n",
    "\n",
    "import statistics\n",
    "\n",
    "x=[150,250,350,450]\n",
    "print(statistics.mean(x))"
   ]
  },
  {
   "cell_type": "markdown",
   "id": "2431e0b0",
   "metadata": {},
   "source": [
    "*important libraries\n",
    "numpy,pandas*"
   ]
  },
  {
   "cell_type": "markdown",
   "id": "32c93049",
   "metadata": {},
   "source": [
    "###**13.Trouble Shooting**"
   ]
  },
  {
   "cell_type": "code",
   "execution_count": 18,
   "id": "4d135920",
   "metadata": {},
   "outputs": [
    {
     "name": "stdout",
     "output_type": "stream",
     "text": [
      "Hello aammar\n"
     ]
    }
   ],
   "source": [
    "#   #syntax error when String are not applied\n",
    "\n",
    "# print(23/0)         #runtime error or mathematical error   trouble shoot is easy\n",
    "\n",
    "name=\"aammar\"\n",
    "# print(\"hello name\")        #semantic error or error in our coding (its our mistake in coding) \n",
    "                              #it is bit difficult to trouble \n",
    "\n",
    "# print(\"Hello,aammar\")           #its wrong way  it con't be run \n",
    "print(\"Hello\",name)"
   ]
  },
  {
   "cell_type": "code",
   "execution_count": null,
   "id": "84364af5",
   "metadata": {},
   "outputs": [],
   "source": []
  }
 ],
 "metadata": {
  "kernelspec": {
   "display_name": "Python 3 (ipykernel)",
   "language": "python",
   "name": "python3"
  },
  "language_info": {
   "codemirror_mode": {
    "name": "ipython",
    "version": 3
   },
   "file_extension": ".py",
   "mimetype": "text/x-python",
   "name": "python",
   "nbconvert_exporter": "python",
   "pygments_lexer": "ipython3",
   "version": "3.9.12"
  }
 },
 "nbformat": 4,
 "nbformat_minor": 5
}
