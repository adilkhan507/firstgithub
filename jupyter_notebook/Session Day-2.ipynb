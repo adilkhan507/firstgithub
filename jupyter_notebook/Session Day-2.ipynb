{
 "cells": [
  {
   "cell_type": "code",
   "execution_count": 1,
   "id": "fbabd070",
   "metadata": {},
   "outputs": [],
   "source": [
    "# body Mass Index\n",
    "# input weight\n",
    "# height\n",
    "# BMI \n",
    "# Calculate BMI\n",
    "# Print Your Name_..."
   ]
  },
  {
   "cell_type": "code",
   "execution_count": 2,
   "id": "b47da4ec",
   "metadata": {},
   "outputs": [],
   "source": [
    "# weight in kg/height in meter and its square"
   ]
  },
  {
   "cell_type": "code",
   "execution_count": 3,
   "id": "3a8dc872",
   "metadata": {},
   "outputs": [
    {
     "name": "stdout",
     "output_type": "stream",
     "text": [
      "what is your height :?1.859\n"
     ]
    }
   ],
   "source": [
    "height =input(\"what is your height :?\") "
   ]
  },
  {
   "cell_type": "code",
   "execution_count": 4,
   "id": "7adf21bd",
   "metadata": {},
   "outputs": [],
   "source": [
    "height =float(height)"
   ]
  },
  {
   "cell_type": "code",
   "execution_count": null,
   "id": "4bde2600",
   "metadata": {},
   "outputs": [],
   "source": []
  },
  {
   "cell_type": "code",
   "execution_count": 5,
   "id": "ee4ecc3a",
   "metadata": {},
   "outputs": [
    {
     "name": "stdout",
     "output_type": "stream",
     "text": [
      "what is your weight: ?69\n"
     ]
    }
   ],
   "source": [
    "weight =input(\"what is your weight: ?\")\n"
   ]
  },
  {
   "cell_type": "code",
   "execution_count": 6,
   "id": "c8f005f5",
   "metadata": {},
   "outputs": [],
   "source": [
    "weight= float(weight)\n",
    " "
   ]
  },
  {
   "cell_type": "code",
   "execution_count": 7,
   "id": "6868e485",
   "metadata": {},
   "outputs": [
    {
     "name": "stdout",
     "output_type": "stream",
     "text": [
      "what is your name: ?Engr.Muhammad Adil\n"
     ]
    }
   ],
   "source": [
    "name=input(\"what is your name: ?\")\n"
   ]
  },
  {
   "cell_type": "code",
   "execution_count": 8,
   "id": "3e88ce0b",
   "metadata": {},
   "outputs": [],
   "source": [
    "BMI=weight/height**2\n"
   ]
  },
  {
   "cell_type": "code",
   "execution_count": 13,
   "id": "cb68c147",
   "metadata": {},
   "outputs": [
    {
     "name": "stdout",
     "output_type": "stream",
     "text": [
      "My name is Engr.Muhammad Adil and my BMI is 19.96596526327151\n"
     ]
    }
   ],
   "source": [
    "print(\"My name is\", name,\"and my BMI is\", BMI )"
   ]
  },
  {
   "cell_type": "markdown",
   "id": "7dec6620",
   "metadata": {},
   "source": [
    "## Catergorical Variable\n",
    "- Barplot\n",
    "\n"
   ]
  },
  {
   "cell_type": "code",
   "execution_count": 9,
   "id": "993721d5",
   "metadata": {},
   "outputs": [],
   "source": [
    "import seaborn as sns "
   ]
  },
  {
   "cell_type": "code",
   "execution_count": 10,
   "id": "ec742edb",
   "metadata": {},
   "outputs": [],
   "source": [
    "import matplotlib.pyplot as plt"
   ]
  },
  {
   "cell_type": "code",
   "execution_count": 11,
   "id": "ad129886",
   "metadata": {},
   "outputs": [],
   "source": [
    "sns.set_theme(style=\"ticks\",color_codes=True)"
   ]
  },
  {
   "cell_type": "code",
   "execution_count": 12,
   "id": "ff796213",
   "metadata": {},
   "outputs": [],
   "source": [
    "titanic=sns.load_dataset(\"titanic\")"
   ]
  },
  {
   "cell_type": "code",
   "execution_count": 13,
   "id": "5b781915",
   "metadata": {},
   "outputs": [
    {
     "data": {
      "text/plain": [
       "<seaborn.axisgrid.FacetGrid at 0x1fb0936b640>"
      ]
     },
     "execution_count": 13,
     "metadata": {},
     "output_type": "execute_result"
    },
    {
     "data": {
      "image/png": "[encoded data removed]",
      "text/plain": [
       "<Figure size 436.975x360 with 1 Axes>"
      ]
     },
     "metadata": {},
     "output_type": "display_data"
    }
   ],
   "source": [
    "sns.catplot(x=\"sex\", y=\"survived\", hue=\"class\", kind=\"bar\", data=titanic)"
   ]
  },
  {
   "cell_type": "code",
   "execution_count": 14,
   "id": "2ef67941",
   "metadata": {},
   "outputs": [],
   "source": [
    "import seaborn as sns "
   ]
  },
  {
   "cell_type": "code",
   "execution_count": 15,
   "id": "5ad7c040",
   "metadata": {},
   "outputs": [],
   "source": [
    "import matplotlib.pyplot as plt"
   ]
  },
  {
   "cell_type": "code",
   "execution_count": 16,
   "id": "7af3a0de",
   "metadata": {},
   "outputs": [],
   "source": [
    "sns.set_theme(style=\"ticks\",color_codes=True)"
   ]
  },
  {
   "cell_type": "code",
   "execution_count": 17,
   "id": "b7522162",
   "metadata": {},
   "outputs": [],
   "source": [
    "titanic=sns.load_dataset(\"titanic\")"
   ]
  },
  {
   "cell_type": "code",
   "execution_count": 18,
   "id": "f75b1291",
   "metadata": {},
   "outputs": [
    {
     "data": {
      "image/png": "[encoded data removed]",
      "text/plain": [
       "<Figure size 432x288 with 1 Axes>"
      ]
     },
     "metadata": {},
     "output_type": "display_data"
    }
   ],
   "source": [
    "p1=sns.countplot(x=\"sex\", data=titanic, hue=\"class\")"
   ]
  },
  {
   "cell_type": "code",
   "execution_count": 19,
   "id": "ed17f313",
   "metadata": {
    "scrolled": true
   },
   "outputs": [
    {
     "data": {
      "text/plain": [
       "Text(0.5, 1.0, 'plot for counting')"
      ]
     },
     "execution_count": 19,
     "metadata": {},
     "output_type": "execute_result"
    }
   ],
   "source": [
    "p1.set_title(\"plot for counting\")\n"
   ]
  },
  {
   "cell_type": "markdown",
   "id": "8e7fea37",
   "metadata": {},
   "source": [
    "# scatter plot\n"
   ]
  },
  {
   "cell_type": "code",
   "execution_count": 28,
   "id": "9b561165",
   "metadata": {},
   "outputs": [],
   "source": [
    "import seaborn as sns"
   ]
  },
  {
   "cell_type": "code",
   "execution_count": 29,
   "id": "bedeb948",
   "metadata": {},
   "outputs": [],
   "source": [
    "import matplotlib.pyplot as plt"
   ]
  },
  {
   "cell_type": "code",
   "execution_count": 30,
   "id": "3e7969ff",
   "metadata": {},
   "outputs": [],
   "source": [
    "sns.set_theme(style=\"ticks\", color_codes=True)"
   ]
  },
  {
   "cell_type": "code",
   "execution_count": 31,
   "id": "a5e51edc",
   "metadata": {},
   "outputs": [],
   "source": [
    "titanic=sns.load_dataset(\"titanic\")"
   ]
  },
  {
   "cell_type": "code",
   "execution_count": 32,
   "id": "28b5b21b",
   "metadata": {},
   "outputs": [
    {
     "data": {
      "image/png": "[encoded data removed]",
      "text/plain": [
       "<Figure size 216x432 with 2 Axes>"
      ]
     },
     "metadata": {},
     "output_type": "display_data"
    }
   ],
   "source": [
    "g=sns.FacetGrid(titanic, row=\"sex\", hue=\"alone\")"
   ]
  },
  {
   "cell_type": "code",
   "execution_count": 33,
   "id": "e4ba906a",
   "metadata": {},
   "outputs": [
    {
     "data": {
      "image/png": "[encoded data removed]",
      "text/plain": [
       "<Figure size 282.35x432 with 2 Axes>"
      ]
     },
     "metadata": {},
     "output_type": "display_data"
    }
   ],
   "source": [
    "g=(g.map(plt.scatter, \"age\", \"fare\").add_legend())"
   ]
  }
 ],
 "metadata": {
  "kernelspec": {
   "display_name": "Python 3 (ipykernel)",
   "language": "python",
   "name": "python3"
  },
  "language_info": {
   "codemirror_mode": {
    "name": "ipython",
    "version": 3
   },
   "file_extension": ".py",
   "mimetype": "text/x-python",
   "name": "python",
   "nbconvert_exporter": "python",
   "pygments_lexer": "ipython3",
   "version": "3.9.12"
  }
 },
 "nbformat": 4,
 "nbformat_minor": 5
}
